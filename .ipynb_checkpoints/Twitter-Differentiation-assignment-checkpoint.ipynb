{
 "cells": [
  {
   "cell_type": "markdown",
   "metadata": {},
   "source": [
    "# Twitter Differentiation Assignment\n",
    "## Anvesh Rokanlawar:\n",
    "In this assignment we will be analyzing the tweets made from three different accounts\n",
    "The 3 different accounts I had choosed are as follows:\n",
    "1. @Microsoft\n",
    "2. @facebook\n",
    "3. @Google"
   ]
  },
  {
   "cell_type": "markdown",
   "metadata": {},
   "source": [
    "## Retrieving information from Twitter and storing the tweets into a pickle file"
   ]
  },
  {
   "cell_type": "code",
   "execution_count": 11,
   "metadata": {},
   "outputs": [],
   "source": [
    "import tweepy\n",
    "from twitter_keys import consumer_key, consumer_secret, access_token, access_secret\n",
    "import pickle\n",
    "\n",
    "auth = tweepy.OAuthHandler(consumer_key, consumer_secret)\n",
    "auth.set_access_token(access_token, access_secret)\n",
    "\n",
    "api = tweepy.API(auth)\n",
    "\n",
    "microsoft_tweets = api.user_timeline('Microsoft')\n",
    "facebook_tweets = api.user_timeline('facebook')\n",
    "Google_tweets = api.user_timeline('Google')\n",
    "\n",
    "with open('Microsoft.pkl', 'wb') as a:\n",
    "    pickle.dump(microsoft_tweets, a)\n",
    "with open('facebook.pkl', 'wb') as b:\n",
    "    pickle.dump(facebook_tweets, b)\n",
    "with open('Google.pkl', 'wb') as c:\n",
    "    pickle.dump(Google_tweets, c)\n"
   ]
  },
  {
   "cell_type": "markdown",
   "metadata": {},
   "source": [
    "## Loading cached data from pickle file"
   ]
  },
  {
   "cell_type": "code",
   "execution_count": 12,
   "metadata": {},
   "outputs": [],
   "source": [
    "with open('Microsoft.pkl', 'rb') as a:\n",
    "    microsoft_tweets = pickle.load(a)\n",
    "#print(microsoft_tweets)\n",
    "\n",
    "with open('facebook.pkl', 'rb') as b:\n",
    "    facebook_tweets = pickle.load(b)\n",
    "#print(facebook_tweets)\n",
    "\n",
    "with open('Google.pkl', 'rb') as c:\n",
    "    Google_tweets = pickle.load(c)\n",
    "#print(Google_tweets)"
   ]
  },
  {
   "cell_type": "markdown",
   "metadata": {},
   "source": [
    "## Description of Lexical Diversity analysis of tweets in those three accounts\n",
    "Lexical diversity refers to the ratio of different unique word  to the total number of words in a sentance. \n",
    "In this assignment we will be calculating the lexical diversity of tweets made by those three accounts viz.. Microsoft, Google, Facebook\n",
    "\n",
    "We will be spliting the words into tokens by converting them to lower case and then calculating the lexical diversity i.e.. ratio of unique words(tokens) to length of token.The values of lexical diversity ranges from 0 to 1 where 1 represents the tweets has all unique words.\n",
    "\n",
    "Next we will be calculating the average of lexical diversity of all the tweets in each of the account and plot them using a bargraph to determine which account has the highest average of lexical diversity among those three accounts ,Representing account names on x-axis and their average lexical diversity on y-axis\n",
    "\n"
   ]
  },
  {
   "cell_type": "markdown",
   "metadata": {},
   "source": [
    "## Lexical Diversity analysis"
   ]
  },
  {
   "cell_type": "code",
   "execution_count": 13,
   "metadata": {
    "scrolled": false
   },
   "outputs": [
    {
     "name": "stdout",
     "output_type": "stream",
     "text": [
      "[1.0, 1.0, 1.0, 0.95, 0.9473684210526315, 0.95, 0.92, 0.9411764705882353, 0.8695652173913043, 0.9545454545454546, 0.9375, 0.9655172413793104, 1.0, 1.0, 0.95, 0.9545454545454546, 1.0, 1.0, 0.9375, 1.0]\n",
      "[0.9473684210526315, 0.8888888888888888, 0.8928571428571429, 0.95, 1.0, 0.88, 0.9473684210526315, 1.0, 0.9444444444444444, 1.0, 0.9523809523809523, 1.0, 0.9583333333333334, 0.8888888888888888, 0.8846153846153846, 1.0, 1.0, 1.0, 1.0, 1.0]\n",
      "[0.9473684210526315, 1.0, 0.9523809523809523, 1.0, 1.0, 0.95, 1.0, 1.0, 0.9523809523809523, 1.0, 0.8695652173913043, 1.0, 1.0, 0.9, 0.9230769230769231, 1.0, 1.0, 1.0, 0.9545454545454546, 1.0]\n"
     ]
    }
   ],
   "source": [
    "def lexical_diversity(text):\n",
    "    tokens = text.lower().split()\n",
    "    return len(set(tokens))/len(tokens)\n",
    "\n",
    "microsoft_ld = list(lexical_diversity(tweet.text) for tweet in microsoft_tweets)\n",
    "print(microsoft_ld)\n",
    "\n",
    "Google_ld = list(lexical_diversity(tweet.text) for tweet in Google_tweets)\n",
    "print(Google_ld)\n",
    "\n",
    "facebook_ld = list(lexical_diversity(tweet.text) for tweet in facebook_tweets)\n",
    "print(facebook_ld)\n"
   ]
  },
  {
   "cell_type": "code",
   "execution_count": 14,
   "metadata": {},
   "outputs": [
    {
     "name": "stdout",
     "output_type": "stream",
     "text": [
      "0.9638859129751196\n",
      "0.9567572938757148\n",
      "0.9724658960414109\n"
     ]
    }
   ],
   "source": [
    "# function for calculating the average of lexical diversities\n",
    "def average(ld):\n",
    "    return (sum(ld)/len(ld))\n",
    "print(average(microsoft_ld))\n",
    "print(average(Google_ld))\n",
    "print(average(facebook_ld))\n"
   ]
  },
  {
   "cell_type": "markdown",
   "metadata": {},
   "source": [
    "## Presentation of results(Plotting of Lexical Diversities)"
   ]
  },
  {
   "cell_type": "code",
   "execution_count": 15,
   "metadata": {},
   "outputs": [
    {
     "data": {
      "image/png": "[encoded data removed]",
      "text/plain": [
       "<Figure size 432x288 with 1 Axes>"
      ]
     },
     "metadata": {
      "needs_background": "light"
     },
     "output_type": "display_data"
    }
   ],
   "source": [
    "import matplotlib.pyplot as plt\n",
    "import numpy as np\n",
    "x_axis = ('Microsoft', 'Google', 'Facebook')\n",
    "y_axis = np.arange(len(x_axis))\n",
    "lexical_devirsities = [average(microsoft_ld), average(Google_ld), average(facebook_ld)]\n",
    "plt.bar(y_axis, lexical_devirsities, align='center', alpha=1.0)\n",
    "plt.xticks(y_axis, x_axis)\n",
    "plt.ylabel('Average')\n",
    "plt.title('Lexical Diversity Analysis ')\n",
    "\n",
    "plt.show()"
   ]
  },
  {
   "cell_type": "markdown",
   "metadata": {},
   "source": [
    "## Conclusion:\n",
    "By observing the above plotted bar graph we can conclude that tweets made by all the three accounts contains unique words as the Average lexical Diversity of all these accounts are all most the same with a slight difference among them. We could observe that tweets made by @facebook contains more unique words (as more average lexical diversity) when compared to @Microsoft and @Google which stands at 2nd and 3rd places respectively.Below are the average lexical diversity values of those three accounts:\n",
    "\n",
    "1. @facebook- 0.9724658960414109\n",
    "2. @Microsoft- 0.9638859129751196\n",
    "3. @Google- 0.9567572938757148"
   ]
  }
 ],
 "metadata": {
  "kernelspec": {
   "display_name": "Python 3",
   "language": "python",
   "name": "python3"
  },
  "language_info": {
   "codemirror_mode": {
    "name": "ipython",
    "version": 3
   },
   "file_extension": ".py",
   "mimetype": "text/x-python",
   "name": "python",
   "nbconvert_exporter": "python",
   "pygments_lexer": "ipython3",
   "version": "3.7.3"
  }
 },
 "nbformat": 4,
 "nbformat_minor": 2
}
